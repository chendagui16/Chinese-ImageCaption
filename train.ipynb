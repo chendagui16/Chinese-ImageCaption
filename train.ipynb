{
 "cells": [
  {
   "cell_type": "code",
   "execution_count": 1,
   "metadata": {
    "collapsed": false
   },
   "outputs": [
    {
     "name": "stderr",
     "output_type": "stream",
     "text": [
      "Using TensorFlow backend.\n"
     ]
    }
   ],
   "source": [
    "from configuration import Config\n",
    "from utils import CharaterTable, Preprocessor, vetorize_caption\n",
    "from CaptionModel import CaptionModel"
   ]
  },
  {
   "cell_type": "code",
   "execution_count": 2,
   "metadata": {
    "collapsed": true
   },
   "outputs": [],
   "source": [
    "config = Config()\n",
    "data = Preprocessor(config)\n",
    "ctable = CharaterTable(data.train_captions + data.val_captions)\n",
    "Y_train = vetorize_caption(data.train_captions, ctable, data.caption_len)\n",
    "Y_val = vetorize_caption(data.val_captions, ctable, data.caption_len)"
   ]
  },
  {
   "cell_type": "code",
   "execution_count": 5,
   "metadata": {
    "collapsed": false
   },
   "outputs": [
    {
     "data": {
      "text/plain": [
       "50.0"
      ]
     },
     "execution_count": 5,
     "metadata": {},
     "output_type": "execute_result"
    }
   ],
   "source": [
    "import numpy as np\n",
    "np.sum(Y_val[0][0])"
   ]
  },
  {
   "cell_type": "code",
   "execution_count": 6,
   "metadata": {
    "collapsed": true
   },
   "outputs": [],
   "source": [
    "caption_model = CaptionModel(\n",
    "    image_len = data.image_len,\n",
    "    caption_len = data.caption_len,\n",
    "    vocab_size = ctable.vocab_size)"
   ]
  },
  {
   "cell_type": "code",
   "execution_count": 7,
   "metadata": {
    "collapsed": false
   },
   "outputs": [
    {
     "name": "stdout",
     "output_type": "stream",
     "text": [
      "____________________________________________________________________________________________________\n",
      "Layer (type)                     Output Shape          Param #     Connected to                     \n",
      "====================================================================================================\n",
      "image_input (InputLayer)         (None, 4096)          0                                            \n",
      "____________________________________________________________________________________________________\n",
      "caption_input (InputLayer)       (None, 50)            0                                            \n",
      "____________________________________________________________________________________________________\n",
      "image_model (Sequential)         (None, 1, 128)        524416                                       \n",
      "____________________________________________________________________________________________________\n",
      "language_model (Sequential)      (None, 50, 128)       334720                                       \n",
      "____________________________________________________________________________________________________\n",
      "concatenate_1 (Concatenate)      (None, 51, 128)       0                                            \n",
      "____________________________________________________________________________________________________\n",
      "RNN (GRU)                        (None, 51, 128)       98688                                        \n",
      "____________________________________________________________________________________________________\n",
      "output (Dense)                   (None, 51, 2615)      337335                                       \n",
      "====================================================================================================\n",
      "Total params: 1,295,159.0\n",
      "Trainable params: 1,295,159.0\n",
      "Non-trainable params: 0.0\n",
      "____________________________________________________________________________________________________\n"
     ]
    }
   ],
   "source": [
    "caption_model.build_train_model()"
   ]
  },
  {
   "cell_type": "code",
   "execution_count": null,
   "metadata": {
    "collapsed": false
   },
   "outputs": [
    {
     "name": "stdout",
     "output_type": "stream",
     "text": [
      "Epoch 1/40\n",
      " 56/200 [=======>......................] - ETA: 80s - loss: 2.3684 - acc: 0.7581"
     ]
    }
   ],
   "source": [
    "caption_model.train(data.train_set, Y_train, data.val_set, Y_val)"
   ]
  },
  {
   "cell_type": "code",
   "execution_count": null,
   "metadata": {
    "collapsed": true
   },
   "outputs": [],
   "source": []
  }
 ],
 "metadata": {
  "kernelspec": {
   "display_name": "Python 2",
   "language": "python",
   "name": "python2"
  },
  "language_info": {
   "codemirror_mode": {
    "name": "ipython",
    "version": 2
   },
   "file_extension": ".py",
   "mimetype": "text/x-python",
   "name": "python",
   "nbconvert_exporter": "python",
   "pygments_lexer": "ipython2",
   "version": "2.7.12"
  }
 },
 "nbformat": 4,
 "nbformat_minor": 0
}
