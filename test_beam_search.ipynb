{
 "cells": [
  {
   "cell_type": "code",
   "execution_count": 1,
   "metadata": {
    "collapsed": false
   },
   "outputs": [
    {
     "name": "stderr",
     "output_type": "stream",
     "text": [
      "Using TensorFlow backend.\n"
     ]
    }
   ],
   "source": [
    "from configuration import Config\n",
    "from utils import CharaterTable, Preprocessor, vetorize_caption\n",
    "from CaptionModel import CaptionModel\n",
    "import numpy as np\n",
    "from beam_search import CaptionGenerator\n",
    "import codecs"
   ]
  },
  {
   "cell_type": "code",
   "execution_count": 2,
   "metadata": {
    "collapsed": false
   },
   "outputs": [],
   "source": [
    "config = Config()\n",
    "data = Preprocessor(config)\n",
    "ctable = CharaterTable(data.train_captions + data.val_captions)\n",
    "caption_len = 25\n",
    "\n",
    "caption_model = CaptionModel(\n",
    "    image_len = data.image_len,\n",
    "    caption_len = caption_len,\n",
    "    vocab_size = ctable.vocab_size)"
   ]
  },
  {
   "cell_type": "code",
   "execution_count": 3,
   "metadata": {
    "collapsed": false
   },
   "outputs": [],
   "source": [
    "caption_model.build_inference_model('./checkpoint/weights.014-0.747.hdf5', beam_search=True)"
   ]
  },
  {
   "cell_type": "code",
   "execution_count": 4,
   "metadata": {
    "collapsed": true
   },
   "outputs": [],
   "source": [
    "caption_gen = CaptionGenerator(model=caption_model,\n",
    "                               ctable=ctable,\n",
    "                              caption_len=caption_len,\n",
    "                              beam_size=3,  # set beam_search size\n",
    "                              length_normalization_factor=0.5)  # biger indicate longer sentence will be favored"
   ]
  },
  {
   "cell_type": "code",
   "execution_count": null,
   "metadata": {
    "collapsed": false
   },
   "outputs": [
    {
     "name": "stdout",
     "output_type": "stream",
     "text": [
      " [0.00%] [1.00%] [2.00%] "
     ]
    }
   ],
   "source": [
    "with codecs.open('result.txt', 'w+', 'utf8') as f:\n",
    "    for id in range(data.test_num):\n",
    "        result = caption_gen.beam_search(data.test_set[id])\n",
    "        decode = ctable.decode(result[0], calc_argmax=False)\n",
    "        f.write('{}'.format(9000+id))\n",
    "        for word in decode:\n",
    "            f.write(' ' + word)\n",
    "        if id % 10 == 0:\n",
    "            print '[%.2f%%]' % ((id*100.0)/data.test_num),\n",
    "        f.write('\\n')"
   ]
  },
  {
   "cell_type": "code",
   "execution_count": null,
   "metadata": {
    "collapsed": true
   },
   "outputs": [],
   "source": []
  }
 ],
 "metadata": {
  "kernelspec": {
   "display_name": "Python 2",
   "language": "python",
   "name": "python2"
  },
  "language_info": {
   "codemirror_mode": {
    "name": "ipython",
    "version": 2
   },
   "file_extension": ".py",
   "mimetype": "text/x-python",
   "name": "python",
   "nbconvert_exporter": "python",
   "pygments_lexer": "ipython2",
   "version": "2.7.12"
  }
 },
 "nbformat": 4,
 "nbformat_minor": 0
}
