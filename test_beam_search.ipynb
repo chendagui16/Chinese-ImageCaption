{
 "cells": [
  {
   "cell_type": "code",
   "execution_count": 1,
   "metadata": {
    "collapsed": false
   },
   "outputs": [
    {
     "name": "stderr",
     "output_type": "stream",
     "text": [
      "Using TensorFlow backend.\n"
     ]
    }
   ],
   "source": [
    "from configuration import Config\n",
    "from utils import CharaterTable, Preprocessor, vetorize_caption\n",
    "from CaptionModel import CaptionModel\n",
    "import numpy as np\n",
    "from beam_search import CaptionGenerator"
   ]
  },
  {
   "cell_type": "code",
   "execution_count": 2,
   "metadata": {
    "collapsed": false
   },
   "outputs": [],
   "source": [
    "config = Config()\n",
    "data = Preprocessor(config)\n",
    "ctable = CharaterTable(data.train_captions + data.val_captions)\n",
    "caption_len = 25\n",
    "\n",
    "caption_model = CaptionModel(\n",
    "    image_len = data.image_len,\n",
    "    caption_len = caption_len,\n",
    "    vocab_size = ctable.vocab_size)"
   ]
  },
  {
   "cell_type": "code",
   "execution_count": 3,
   "metadata": {
    "collapsed": false
   },
   "outputs": [],
   "source": [
    "caption_model.build_inference_model('./checkpoint/weights.014-0.747.hdf5', beam_search=True)"
   ]
  },
  {
   "cell_type": "code",
   "execution_count": 4,
   "metadata": {
    "collapsed": true
   },
   "outputs": [],
   "source": [
    "caption_gen = CaptionGenerator(model=caption_model,\n",
    "                               ctable=ctable,\n",
    "                              caption_len=caption_len,\n",
    "                              beam_size=3,  # set beam_search size\n",
    "                              length_normalization_factor=0.5)  # biger indicate longer sentence will be favored"
   ]
  },
  {
   "cell_type": "code",
   "execution_count": 5,
   "metadata": {
    "collapsed": false
   },
   "outputs": [
    {
     "data": {
      "text/plain": [
       "[[16,\n",
       "  71,\n",
       "  95,\n",
       "  1826,\n",
       "  2000,\n",
       "  1635,\n",
       "  1401,\n",
       "  2429,\n",
       "  1231,\n",
       "  15,\n",
       "  15,\n",
       "  15,\n",
       "  15,\n",
       "  15,\n",
       "  15,\n",
       "  15,\n",
       "  15,\n",
       "  15,\n",
       "  15,\n",
       "  15,\n",
       "  15,\n",
       "  15,\n",
       "  15,\n",
       "  15,\n",
       "  15,\n",
       "  15,\n",
       "  0],\n",
       " [16,\n",
       "  71,\n",
       "  95,\n",
       "  1826,\n",
       "  2000,\n",
       "  1635,\n",
       "  1005,\n",
       "  1712,\n",
       "  1531,\n",
       "  15,\n",
       "  15,\n",
       "  15,\n",
       "  15,\n",
       "  15,\n",
       "  15,\n",
       "  15,\n",
       "  15,\n",
       "  15,\n",
       "  15,\n",
       "  15,\n",
       "  15,\n",
       "  15,\n",
       "  15,\n",
       "  15,\n",
       "  15,\n",
       "  15,\n",
       "  0],\n",
       " [16,\n",
       "  71,\n",
       "  95,\n",
       "  1826,\n",
       "  2000,\n",
       "  1635,\n",
       "  1401,\n",
       "  2429,\n",
       "  1231,\n",
       "  15,\n",
       "  15,\n",
       "  15,\n",
       "  15,\n",
       "  15,\n",
       "  15,\n",
       "  15,\n",
       "  15,\n",
       "  15,\n",
       "  15,\n",
       "  15,\n",
       "  15,\n",
       "  15,\n",
       "  15,\n",
       "  15,\n",
       "  15,\n",
       "  0,\n",
       "  0]]"
      ]
     },
     "execution_count": 5,
     "metadata": {},
     "output_type": "execute_result"
    }
   ],
   "source": [
    "caption_gen.beam_search(data.train_set[0])"
   ]
  },
  {
   "cell_type": "code",
   "execution_count": null,
   "metadata": {
    "collapsed": true
   },
   "outputs": [],
   "source": []
  }
 ],
 "metadata": {
  "kernelspec": {
   "display_name": "Python 2",
   "language": "python",
   "name": "python2"
  },
  "language_info": {
   "codemirror_mode": {
    "name": "ipython",
    "version": 2
   },
   "file_extension": ".py",
   "mimetype": "text/x-python",
   "name": "python",
   "nbconvert_exporter": "python",
   "pygments_lexer": "ipython2",
   "version": "2.7.12"
  }
 },
 "nbformat": 4,
 "nbformat_minor": 0
}
