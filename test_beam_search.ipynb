{
 "cells": [
  {
   "cell_type": "code",
   "execution_count": 1,
   "metadata": {
    "collapsed": false
   },
   "outputs": [
    {
     "name": "stderr",
     "output_type": "stream",
     "text": [
      "Using TensorFlow backend.\n"
     ]
    }
   ],
   "source": [
    "from configuration import Config\n",
    "from utils import CharaterTable, Preprocessor, vetorize_caption\n",
    "from CaptionModel import CaptionModel\n",
    "import numpy as np\n",
    "from beam_search import CaptionGenerator\n",
    "import codecs"
   ]
  },
  {
   "cell_type": "code",
   "execution_count": 2,
   "metadata": {
    "collapsed": false
   },
   "outputs": [],
   "source": [
    "config = Config()\n",
    "data = Preprocessor(config)\n",
    "ctable = CharaterTable(data.train_captions + data.val_captions)\n",
    "caption_len = 25\n",
    "\n",
    "caption_model = CaptionModel(\n",
    "    image_len = data.image_len,\n",
    "    caption_len = caption_len,\n",
    "    vocab_size = ctable.vocab_size)"
   ]
  },
  {
   "cell_type": "code",
   "execution_count": 3,
   "metadata": {
    "collapsed": false
   },
   "outputs": [],
   "source": [
    "caption_model.build_inference_model('./checkpoint/weights.014-0.747.hdf5', beam_search=True)"
   ]
  },
  {
   "cell_type": "code",
   "execution_count": 4,
   "metadata": {
    "collapsed": true
   },
   "outputs": [],
   "source": [
    "caption_gen = CaptionGenerator(model=caption_model,\n",
    "                               ctable=ctable,\n",
    "                              caption_len=caption_len,\n",
    "                              beam_size=3,  # set beam_search size\n",
    "                              length_normalization_factor=0.5)  # biger indicate longer sentence will be favored"
   ]
  },
  {
   "cell_type": "code",
   "execution_count": 6,
   "metadata": {
    "collapsed": false
   },
   "outputs": [
    {
     "name": "stdout",
     "output_type": "stream",
     "text": [
      " [0.00%] [1.00%] [2.00%] [3.00%] [4.00%] [5.00%] [6.00%] [7.00%] [8.00%] [9.00%] [10.00%] [11.00%] [12.00%] [13.00%] [14.00%] [15.00%] [16.00%] [17.00%] [18.00%] [19.00%] [20.00%] [21.00%] [22.00%] [23.00%] [24.00%] [25.00%] [26.00%] [27.00%] [28.00%] [29.00%] [30.00%] [31.00%] [32.00%] [33.00%] [34.00%] [35.00%] [36.00%] [37.00%] [38.00%] [39.00%] [40.00%] [41.00%] [42.00%] [43.00%] [44.00%] [45.00%] [46.00%] [47.00%] [48.00%] [49.00%] [50.00%] [51.00%] [52.00%] [53.00%] [54.00%] [55.00%] [56.00%] [57.00%] [58.00%] [59.00%] [60.00%] [61.00%] [62.00%] [63.00%] [64.00%] [65.00%] [66.00%] [67.00%] [68.00%] [69.00%] [70.00%] [71.00%] [72.00%] [73.00%] [74.00%] [75.00%] [76.00%] [77.00%] [78.00%] [79.00%] [80.00%] [81.00%] [82.00%] [83.00%] [84.00%] [85.00%] [86.00%] [87.00%] [88.00%] [89.00%] [90.00%] [91.00%] [92.00%] [93.00%] [94.00%] [95.00%] [96.00%] [97.00%] [98.00%] [99.00%]\n"
     ]
    }
   ],
   "source": [
    "with codecs.open('result.txt', 'w+', 'utf8') as f:\n",
    "    for id in range(data.test_num):\n",
    "        result = caption_gen.beam_search(data.test_set[id])\n",
    "        decode = ctable.decode(result[0], calc_argmax=False)\n",
    "        f.write('{}'.format(9000+id))\n",
    "        for word in decode:\n",
    "            f.write(' ' + word)\n",
    "        if id % 10 == 0:\n",
    "            print '[%.2f%%]' % ((id*100.0)/data.test_num),\n",
    "        f.write('\\n')"
   ]
  },
  {
   "cell_type": "code",
   "execution_count": null,
   "metadata": {
    "collapsed": true
   },
   "outputs": [],
   "source": []
  }
 ],
 "metadata": {
  "kernelspec": {
   "display_name": "Python 2",
   "language": "python",
   "name": "python2"
  },
  "language_info": {
   "codemirror_mode": {
    "name": "ipython",
    "version": 2
   },
   "file_extension": ".py",
   "mimetype": "text/x-python",
   "name": "python",
   "nbconvert_exporter": "python",
   "pygments_lexer": "ipython2",
   "version": "2.7.12"
  }
 },
 "nbformat": 4,
 "nbformat_minor": 0
}
