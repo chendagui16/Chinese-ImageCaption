{
 "cells": [
  {
   "cell_type": "code",
   "execution_count": 1,
   "metadata": {
    "collapsed": false
   },
   "outputs": [
    {
     "name": "stderr",
     "output_type": "stream",
     "text": [
      "Using TensorFlow backend.\n"
     ]
    }
   ],
   "source": [
    "from configuration import Config\n",
    "from utils import CharaterTable, Preprocessor, vetorize_caption\n",
    "from CaptionModel import CaptionModel\n",
    "import codecs"
   ]
  },
  {
   "cell_type": "code",
   "execution_count": 2,
   "metadata": {
    "collapsed": true
   },
   "outputs": [],
   "source": [
    "config = Config()\n",
    "data = Preprocessor(config)\n",
    "ctable = CharaterTable(data.train_captions + data.val_captions)"
   ]
  },
  {
   "cell_type": "code",
   "execution_count": 3,
   "metadata": {
    "collapsed": true
   },
   "outputs": [],
   "source": [
    "config = Config()\n",
    "data = Preprocessor(config)\n",
    "ctable = CharaterTable(data.train_captions + data.val_captions)\n",
    "caption_len = 25\n",
    "\n",
    "caption_model = CaptionModel(\n",
    "    image_len = data.image_len,\n",
    "    caption_len = caption_len,\n",
    "    vocab_size = ctable.vocab_size)"
   ]
  },
  {
   "cell_type": "code",
   "execution_count": 4,
   "metadata": {
    "collapsed": false
   },
   "outputs": [],
   "source": [
    "caption_model.build_inference_model('./checkpoint/weights.014-0.747.hdf5', beam_search=False)"
   ]
  },
  {
   "cell_type": "code",
   "execution_count": 5,
   "metadata": {
    "collapsed": false
   },
   "outputs": [],
   "source": [
    "result = caption_model.inference(data.val_set)"
   ]
  },
  {
   "cell_type": "code",
   "execution_count": 7,
   "metadata": {
    "collapsed": false
   },
   "outputs": [],
   "source": [
    "num = result.shape[0]\n",
    "\n",
    "captions = [ctable.decode(result[i], calc_argmax=False) for i in range(num)]\n",
    "\n",
    "\n",
    "with codecs.open('result_greedy.txt', 'w+', 'utf8') as f:\n",
    "    for i, caption in enumerate(captions):\n",
    "        f.write('{}'.format(9000+i))\n",
    "        for word in caption:\n",
    "            f.write(' ' + word)\n",
    "        f.write('\\n')"
   ]
  },
  {
   "cell_type": "code",
   "execution_count": null,
   "metadata": {
    "collapsed": true
   },
   "outputs": [],
   "source": []
  }
 ],
 "metadata": {
  "kernelspec": {
   "display_name": "Python 2",
   "language": "python",
   "name": "python2"
  },
  "language_info": {
   "codemirror_mode": {
    "name": "ipython",
    "version": 2
   },
   "file_extension": ".py",
   "mimetype": "text/x-python",
   "name": "python",
   "nbconvert_exporter": "python",
   "pygments_lexer": "ipython2",
   "version": "2.7.12"
  }
 },
 "nbformat": 4,
 "nbformat_minor": 0
}
