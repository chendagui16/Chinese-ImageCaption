{
 "cells": [
  {
   "cell_type": "code",
   "execution_count": 1,
   "metadata": {
    "collapsed": false
   },
   "outputs": [
    {
     "name": "stderr",
     "output_type": "stream",
     "text": [
      "Using TensorFlow backend.\n"
     ]
    }
   ],
   "source": [
    "from configuration import Config\n",
    "from utils import CharaterTable, Preprocessor, vetorize_caption\n",
    "from CaptionModel import CaptionModel\n",
    "import numpy as np"
   ]
  },
  {
   "cell_type": "code",
   "execution_count": 2,
   "metadata": {
    "collapsed": false
   },
   "outputs": [],
   "source": [
    "class Caption(object):\n",
    "    \"\"\"Represents a complete or partial caption.\"\"\"\n",
    "\n",
    "    def __init__(self, sentence, state, logprob, score, metadata=None):\n",
    "        \"\"\"Initializes the Caption.\n",
    "\n",
    "        Args:\n",
    "          sentence: List of word ids in the caption.\n",
    "          state: Model state after generating the previous word.\n",
    "          logprob: Log-probability of the caption.\n",
    "          score: Score of the caption.\n",
    "          metadata: Optional metadata associated with the partial sentence. If not\n",
    "            None, a list of strings with the same length as 'sentence'.\n",
    "        \"\"\"\n",
    "        self.sentence = sentence\n",
    "        self.state = state\n",
    "        self.logprob = logprob\n",
    "        self.score = score\n",
    "        self.metadata = metadata\n",
    "\n",
    "    def __cmp__(self, other):\n",
    "        \"\"\"Compares Captions by score.\"\"\"\n",
    "        assert isinstance(other, Caption)\n",
    "        if self.score == other.score:\n",
    "            return 0\n",
    "        elif self.score < other.score:\n",
    "            return -1\n",
    "        else:\n",
    "            return 1\n",
    "    # For python3 compatibility\n",
    "    def __lt__(self, other):\n",
    "        assert isinstance(other, Caption)\n",
    "        return self.score < other.score\n",
    "\n",
    "    def __eq__(self, other):\n",
    "        assert isinstance(other, Caption)\n",
    "        return self.score == other.score\n",
    "\n",
    "\n",
    "class TopN(object):\n",
    "    \"\"\"Maintains the top n elements of an incrementally provided set.\"\"\"\n",
    "\n",
    "    def __init__(self, n):\n",
    "        self._n = n\n",
    "        self._data = []\n",
    "\n",
    "    def size(self):\n",
    "        assert self._data is not None\n",
    "        return len(self._data)\n",
    "\n",
    "    def push(self, x):\n",
    "        \"\"\"Pushes a new element.\"\"\"\n",
    "        assert self._data is not None\n",
    "        if len(self._data) < self._n:\n",
    "            heapq.heappush(self._data, x)\n",
    "        else:\n",
    "            heapq.heappushpop(self._data, x)\n",
    "\n",
    "    def extract(self, sort=False):\n",
    "        \"\"\"Extracts all elements from the TopN. This is a destructive operation.\n",
    "\n",
    "        The only method that can be called immediately after extract() is reset().\n",
    "\n",
    "        Args:\n",
    "            sort: Whether to return the elements in descending sorted order.\n",
    "\n",
    "        Returns:\n",
    "            A list of data; the top n elements provided to the set.\n",
    "        \"\"\"\n",
    "        assert self._data is not None\n",
    "        data = self._data\n",
    "        self._data = None\n",
    "        if sort:\n",
    "            data.sort(reverse=True)\n",
    "        return data\n",
    "\n",
    "        def reset(self):\n",
    "            \"\"\"Returns the TopN to an empty state.\"\"\"\n",
    "            self._data = []"
   ]
  },
  {
   "cell_type": "code",
   "execution_count": 3,
   "metadata": {
    "collapsed": false
   },
   "outputs": [],
   "source": [
    "config = Config()\n",
    "data = Preprocessor(config)\n",
    "ctable = CharaterTable(data.train_captions + data.val_captions)\n",
    "caption_len = 25\n",
    "\n",
    "# Y_train = vetorize_caption(data.train_captions, ctable, caption_len)\n",
    "# Y_val = vetorize_caption(data.val_captions, ctable, caption_len)\n",
    "\n",
    "caption_model = CaptionModel(\n",
    "    image_len = data.image_len,\n",
    "    caption_len = caption_len,\n",
    "    vocab_size = ctable.vocab_size)"
   ]
  },
  {
   "cell_type": "code",
   "execution_count": 4,
   "metadata": {
    "collapsed": false
   },
   "outputs": [],
   "source": [
    "caption_model.build_inference_model('./checkpoint/weights.014-0.747.hdf5', beam_search=True)"
   ]
  },
  {
   "cell_type": "code",
   "execution_count": 5,
   "metadata": {
    "collapsed": false
   },
   "outputs": [
    {
     "name": "stdout",
     "output_type": "stream",
     "text": [
      "(4096,)\n",
      "大街的马路上有一个路标指向牌\n"
     ]
    }
   ],
   "source": [
    "image = data.train_set[0]\n",
    "labels = data.train_captions[0][0]\n",
    "print image.shape\n",
    "print ''.join([i for i in labels]) "
   ]
  },
  {
   "cell_type": "code",
   "execution_count": 6,
   "metadata": {
    "collapsed": false
   },
   "outputs": [],
   "source": [
    "image_output = np.expand_dims(caption_model.image_model.predict_on_batch(image[None,...]), axis=1)"
   ]
  },
  {
   "cell_type": "code",
   "execution_count": 7,
   "metadata": {
    "collapsed": false
   },
   "outputs": [],
   "source": [
    "caption_model.caption_model.reset_states()"
   ]
  },
  {
   "cell_type": "code",
   "execution_count": 8,
   "metadata": {
    "collapsed": false
   },
   "outputs": [],
   "source": [
    "predict = caption_model.caption_model.predict_on_batch(image_output)"
   ]
  },
  {
   "cell_type": "code",
   "execution_count": 15,
   "metadata": {
    "collapsed": false
   },
   "outputs": [],
   "source": [
    "state = caption_model.caption_model.ge"
   ]
  },
  {
   "cell_type": "code",
   "execution_count": null,
   "metadata": {
    "collapsed": true
   },
   "outputs": [],
   "source": [
    "state = caption_model.caption_model.reset_states"
   ]
  },
  {
   "cell_type": "code",
   "execution_count": null,
   "metadata": {
    "collapsed": true
   },
   "outputs": [],
   "source": [
    "state = caption_model.caption_model.set_weights"
   ]
  },
  {
   "cell_type": "code",
   "execution_count": 13,
   "metadata": {
    "collapsed": false
   },
   "outputs": [
    {
     "data": {
      "text/plain": [
       "[(<tensorflow.python.ops.variables.Variable at 0x7fbfa4591610>,\n",
       "  <tf.Tensor 'gru_1/while/Exit_2:0' shape=(1, 128) dtype=float32>)]"
      ]
     },
     "execution_count": 13,
     "metadata": {},
     "output_type": "execute_result"
    }
   ],
   "source": [
    "state"
   ]
  },
  {
   "cell_type": "code",
   "execution_count": null,
   "metadata": {
    "collapsed": true
   },
   "outputs": [],
   "source": []
  }
 ],
 "metadata": {
  "kernelspec": {
   "display_name": "Python 2",
   "language": "python",
   "name": "python2"
  },
  "language_info": {
   "codemirror_mode": {
    "name": "ipython",
    "version": 2
   },
   "file_extension": ".py",
   "mimetype": "text/x-python",
   "name": "python",
   "nbconvert_exporter": "python",
   "pygments_lexer": "ipython2",
   "version": "2.7.12"
  }
 },
 "nbformat": 4,
 "nbformat_minor": 0
}
